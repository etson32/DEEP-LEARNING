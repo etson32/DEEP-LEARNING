{
  "nbformat": 4,
  "nbformat_minor": 0,
  "metadata": {
    "kernelspec": {
      "display_name": "Python 3",
      "language": "python",
      "name": "python3"
    },
    "language_info": {
      "codemirror_mode": {
        "name": "ipython",
        "version": 3
      },
      "file_extension": ".py",
      "mimetype": "text/x-python",
      "name": "python",
      "nbconvert_exporter": "python",
      "pygments_lexer": "ipython3",
      "version": "3.7.5"
    },
    "colab": {
      "name": "LABORATORIO06_CNN.ipynb",
      "provenance": []
    }
  },
  "cells": [
    {
      "cell_type": "markdown",
      "source": [
        "#LABORATORIO 06\n",
        "---\n",
        "```\n",
        "Universidad Nacional de San Antonio Abad del Cusco\n",
        "Asignatura: Deep Learning\n",
        "Docente   : Ivan Cesar Medrano Valencia\n",
        "Autor     : Etson Ronaldao Rojas Cahuana\n",
        "Fecha     : 13/12/2021\n",
        "Lugar     : Cusco, Perú\n",
        "Proposito : 1.   Utilice como optimizador el Gradiente Descendente con una tasa de aprendizaje 0.0001.\n",
        "            2.   Agregue el código necesario para hacer predicciones de imágenes de dígitos\n",
        "                 manuscritos.\n",
        "```\n",
        "---"
      ],
      "metadata": {
        "id": "36b6SEz8U0VK"
      }
    },
    {
      "cell_type": "markdown",
      "metadata": {
        "id": "5g1OfqsMSyNL"
      },
      "source": [
        "**1.\tImporte tensorflow.keras.datasets.mnist como mnist:**"
      ]
    },
    {
      "cell_type": "code",
      "metadata": {
        "id": "L-fa1mkcRFYN"
      },
      "source": [
        "import tensorflow.keras.datasets.mnist as mnist"
      ],
      "execution_count": null,
      "outputs": []
    },
    {
      "cell_type": "markdown",
      "metadata": {
        "id": "rvweCdlyS-sH"
      },
      "source": [
        "**2.\tCargue el conjunto de datos mnist usando mnist.load_data() y guarde los resultados en (features_train, label_train), (features_test, label_test):**"
      ]
    },
    {
      "cell_type": "code",
      "metadata": {
        "id": "M0u5RUFIRFYR"
      },
      "source": [
        "(features_train, label_train), (features_test, label_test) = mnist.load_data()"
      ],
      "execution_count": null,
      "outputs": []
    },
    {
      "cell_type": "markdown",
      "metadata": {
        "id": "0T3TSz-RTMaF"
      },
      "source": [
        "**3.\tImprime el contenido de label_train:**"
      ]
    },
    {
      "cell_type": "code",
      "metadata": {
        "colab": {
          "base_uri": "https://localhost:8080/"
        },
        "id": "UgCa3innRFYS",
        "outputId": "b8bb1a87-6118-49d4-bf04-c47c13570ec9"
      },
      "source": [
        "label_train"
      ],
      "execution_count": null,
      "outputs": [
        {
          "output_type": "execute_result",
          "data": {
            "text/plain": [
              "array([5, 0, 4, ..., 5, 6, 8], dtype=uint8)"
            ]
          },
          "metadata": {},
          "execution_count": 132
        }
      ]
    },
    {
      "cell_type": "markdown",
      "metadata": {
        "id": "itvNoEjLTSKq"
      },
      "source": [
        "**4.\tImprime la forma del conjunto de entrenamiento:**"
      ]
    },
    {
      "cell_type": "code",
      "metadata": {
        "colab": {
          "base_uri": "https://localhost:8080/"
        },
        "id": "vnTclEYDRFYT",
        "outputId": "737029b8-2fdd-404e-869e-a216c77ea729"
      },
      "source": [
        "features_train.shape"
      ],
      "execution_count": null,
      "outputs": [
        {
          "output_type": "execute_result",
          "data": {
            "text/plain": [
              "(60000, 28, 28)"
            ]
          },
          "metadata": {},
          "execution_count": 133
        }
      ]
    },
    {
      "cell_type": "markdown",
      "metadata": {
        "id": "zGtO4318TZvC"
      },
      "source": [
        "**5.\tImprima la forma del conjunto de prueba:**"
      ]
    },
    {
      "cell_type": "code",
      "metadata": {
        "colab": {
          "base_uri": "https://localhost:8080/"
        },
        "id": "UGjst6_cRFYT",
        "outputId": "e9771d73-70f6-4c94-87b0-dfad6c972221"
      },
      "source": [
        "features_test.shape"
      ],
      "execution_count": null,
      "outputs": [
        {
          "output_type": "execute_result",
          "data": {
            "text/plain": [
              "(10000, 28, 28)"
            ]
          },
          "metadata": {},
          "execution_count": 134
        }
      ]
    },
    {
      "cell_type": "markdown",
      "metadata": {
        "id": "dP5_cARrTgj5"
      },
      "source": [
        "**6.\tCambie la forma de los conjuntos de entrenamiento y prueba con las dimensiones (number_observations, 28, 28, 1):**"
      ]
    },
    {
      "cell_type": "code",
      "metadata": {
        "id": "VqGjK5IdRFYU"
      },
      "source": [
        "features_train = features_train.reshape(60000, 28, 28, 1)\n",
        "features_test = features_test.reshape(10000, 28, 28, 1)"
      ],
      "execution_count": null,
      "outputs": []
    },
    {
      "cell_type": "markdown",
      "metadata": {
        "id": "MgRJpcQDTncM"
      },
      "source": [
        "**7.\tEstandarice features_train y features_test dividiéndolos entre 255:**"
      ]
    },
    {
      "cell_type": "code",
      "metadata": {
        "id": "f4ABKN7oRFYU"
      },
      "source": [
        "features_train = features_train / 255.0\n",
        "features_test = features_test / 255.0"
      ],
      "execution_count": null,
      "outputs": []
    },
    {
      "cell_type": "markdown",
      "metadata": {
        "id": "UPI0o85vTt32"
      },
      "source": [
        "**8.\tImporte numpy como np, tensorflow como tf y layers de tensorflow.keras:**"
      ]
    },
    {
      "cell_type": "code",
      "metadata": {
        "id": "pk6D4y4jRFYV"
      },
      "source": [
        "import numpy as np\n",
        "import tensorflow as tf\n",
        "from tensorflow.keras import layers"
      ],
      "execution_count": null,
      "outputs": []
    },
    {
      "cell_type": "markdown",
      "metadata": {
        "id": "6QiD88HPTz7S"
      },
      "source": [
        "**9.\tEstablezca 8 como semilla para numpy y tensorflow usando np.random_seed() y tf.random.set_seed (), respectivamente:**"
      ]
    },
    {
      "cell_type": "code",
      "metadata": {
        "id": "mMDKgtBeRFYW"
      },
      "source": [
        "np.random.seed(8)\n",
        "tf.random.set_seed(8)"
      ],
      "execution_count": null,
      "outputs": []
    },
    {
      "cell_type": "markdown",
      "metadata": {
        "id": "iSSJIhrXT5bc"
      },
      "source": [
        "**10.\tCree una instancia de una clase tf.keras.Sequential () y guárdela en una variable llamada modelo:**"
      ]
    },
    {
      "cell_type": "code",
      "metadata": {
        "id": "IXEeblb9RFYW"
      },
      "source": [
        "model = tf.keras.Sequential()"
      ],
      "execution_count": null,
      "outputs": []
    },
    {
      "cell_type": "markdown",
      "metadata": {
        "id": "Axf7lJ3gT-1-"
      },
      "source": [
        "**11.\tCree una instancia de una clase layer.Conv2D () con 64 núcleos de forma (3,3), activación = 'relu' y input_shape = (28,28,1), y guárdelo en una variable llamada conv_layer1:**"
      ]
    },
    {
      "cell_type": "code",
      "metadata": {
        "id": "mdRG6Pd5RFYX"
      },
      "source": [
        "conv_layer1 = layers.Conv2D(64, (3,3), activation='relu', input_shape=(28, 28, 1))"
      ],
      "execution_count": null,
      "outputs": []
    },
    {
      "cell_type": "markdown",
      "metadata": {
        "id": "UUxa6vf3UEVB"
      },
      "source": [
        "**12.\tCree una instancia de una clase layer.Conv2D () con 64 núcleos de forma (3,3) y activación = 'relu' y guárdela en una variable llamada conv_layer2:**"
      ]
    },
    {
      "cell_type": "code",
      "metadata": {
        "id": "gUCcNvimRFYX"
      },
      "source": [
        "conv_layer2 = layers.Conv2D(64, (3,3), activation='relu')"
      ],
      "execution_count": null,
      "outputs": []
    },
    {
      "cell_type": "markdown",
      "metadata": {
        "id": "08iYIv2ZUKUX"
      },
      "source": [
        "**13.\tCree una instancia de la clase layer.Flatten () con 128 neuronas, activación = 'relu', y guárdela en una variable llamada fc_layer1:**"
      ]
    },
    {
      "cell_type": "code",
      "metadata": {
        "id": "RV3WASh9RFYY"
      },
      "source": [
        "fc_layer1 = layers.Dense(128, activation='relu')"
      ],
      "execution_count": null,
      "outputs": []
    },
    {
      "cell_type": "markdown",
      "metadata": {
        "id": "Gtrq5G4fUPFd"
      },
      "source": [
        "**14.\tCree una instancia de la clase layer.Flatten () con 10 neuronas, activación = 'softmax', y guárdela en una variable llamada fc_layer2:**"
      ]
    },
    {
      "cell_type": "code",
      "metadata": {
        "id": "ltfS72nKRFYY"
      },
      "source": [
        "fc_layer2 = layers.Dense(10, activation='softmax')"
      ],
      "execution_count": null,
      "outputs": []
    },
    {
      "cell_type": "markdown",
      "metadata": {
        "id": "dvEqjY9UUTcv"
      },
      "source": [
        "**15.\tAgregue las cuatro capas que acaba de definir al modelo usando .add (), agregue una capa MaxPooling2D () de tamaño (2,2) entre cada una de las capas de convolución y agregue una capa Flatten() antes de la primera capa completamente conectada para aplanar los mapas de características:**"
      ]
    },
    {
      "cell_type": "code",
      "metadata": {
        "id": "VitzGXyhRFYZ"
      },
      "source": [
        "model.add(conv_layer1)\n",
        "model.add(layers.MaxPooling2D(2, 2))\n",
        "model.add(conv_layer2)\n",
        "model.add(layers.MaxPooling2D(2, 2))\n",
        "model.add(layers.Flatten())\n",
        "model.add(fc_layer1)\n",
        "model.add(fc_layer2)"
      ],
      "execution_count": null,
      "outputs": []
    },
    {
      "cell_type": "markdown",
      "metadata": {
        "id": "1-PDDYpAUYep"
      },
      "source": [
        "**16.\tCree una instancia de una clase tf.keras.optimizers.SGD (Gradiente descendente) con 0.0001 como tasa de aprendizaje y guárdela en una variable llamada optimizer:**"
      ]
    },
    {
      "cell_type": "code",
      "metadata": {
        "id": "-JpeIVC1RFYa"
      },
      "source": [
        "optimizer = tf.keras.optimizers.SGD(0.0001)"
      ],
      "execution_count": null,
      "outputs": []
    },
    {
      "cell_type": "markdown",
      "metadata": {
        "id": "kJh1xtQFUcvn"
      },
      "source": [
        "**17.\tCompile la red neuronal usando .compile() con loss = 'sparse_ categorical_crossentropy', optimizer = optimizer, metrics = ['precision']:**"
      ]
    },
    {
      "cell_type": "code",
      "metadata": {
        "id": "opfvr6HkRFYa"
      },
      "source": [
        "model.compile(loss='sparse_categorical_crossentropy', optimizer=optimizer, metrics=['accuracy'])"
      ],
      "execution_count": null,
      "outputs": []
    },
    {
      "cell_type": "markdown",
      "metadata": {
        "id": "MDDe_8tPUhCA"
      },
      "source": [
        "**18.\tImprime el resumen del modelo:**"
      ]
    },
    {
      "cell_type": "code",
      "metadata": {
        "colab": {
          "base_uri": "https://localhost:8080/"
        },
        "id": "UVqX1ZGPRFYa",
        "outputId": "076637d7-aa90-4b08-f2ac-b9e7abbd2366"
      },
      "source": [
        "model.summary()"
      ],
      "execution_count": null,
      "outputs": [
        {
          "output_type": "stream",
          "name": "stdout",
          "text": [
            "Model: \"sequential_1\"\n",
            "_________________________________________________________________\n",
            " Layer (type)                Output Shape              Param #   \n",
            "=================================================================\n",
            " conv2d_2 (Conv2D)           (None, 26, 26, 64)        640       \n",
            "                                                                 \n",
            " max_pooling2d_2 (MaxPooling  (None, 13, 13, 64)       0         \n",
            " 2D)                                                             \n",
            "                                                                 \n",
            " conv2d_3 (Conv2D)           (None, 11, 11, 64)        36928     \n",
            "                                                                 \n",
            " max_pooling2d_3 (MaxPooling  (None, 5, 5, 64)         0         \n",
            " 2D)                                                             \n",
            "                                                                 \n",
            " flatten_1 (Flatten)         (None, 1600)              0         \n",
            "                                                                 \n",
            " dense_2 (Dense)             (None, 128)               204928    \n",
            "                                                                 \n",
            " dense_3 (Dense)             (None, 10)                1290      \n",
            "                                                                 \n",
            "=================================================================\n",
            "Total params: 243,786\n",
            "Trainable params: 243,786\n",
            "Non-trainable params: 0\n",
            "_________________________________________________________________\n"
          ]
        }
      ]
    },
    {
      "cell_type": "markdown",
      "metadata": {
        "id": "L0qfADwoUvfG"
      },
      "source": [
        "**19.\tAjuste las redes neuronales con el conjunto de entrenamiento y especifique epochs = 20, validation_split = 0.2 y verbose = 2:**"
      ]
    },
    {
      "cell_type": "code",
      "metadata": {
        "colab": {
          "base_uri": "https://localhost:8080/"
        },
        "id": "j0GxNROfRFYb",
        "outputId": "ec1cc635-71b6-4cd7-a733-4fe4139c5548"
      },
      "source": [
        "model.fit(features_train, label_train, epochs=20, validation_split=0.2, verbose=1)"
      ],
      "execution_count": null,
      "outputs": [
        {
          "output_type": "stream",
          "name": "stdout",
          "text": [
            "Epoch 1/20\n",
            "1500/1500 [==============================] - 48s 32ms/step - loss: 2.1933 - accuracy: 0.4192 - val_loss: 2.1758 - val_accuracy: 0.4642\n",
            "Epoch 2/20\n",
            "1500/1500 [==============================] - 49s 33ms/step - loss: 2.1610 - accuracy: 0.4916 - val_loss: 2.1387 - val_accuracy: 0.5444\n",
            "Epoch 3/20\n",
            "1500/1500 [==============================] - 49s 33ms/step - loss: 2.1194 - accuracy: 0.5670 - val_loss: 2.0903 - val_accuracy: 0.6175\n",
            "Epoch 4/20\n",
            "1500/1500 [==============================] - 50s 33ms/step - loss: 2.0643 - accuracy: 0.6257 - val_loss: 2.0255 - val_accuracy: 0.6724\n",
            "Epoch 5/20\n",
            "1500/1500 [==============================] - 49s 33ms/step - loss: 1.9899 - accuracy: 0.6684 - val_loss: 1.9374 - val_accuracy: 0.6944\n",
            "Epoch 6/20\n",
            "1500/1500 [==============================] - 49s 33ms/step - loss: 1.8889 - accuracy: 0.6844 - val_loss: 1.8185 - val_accuracy: 0.7025\n",
            "Epoch 7/20\n",
            "1500/1500 [==============================] - 49s 33ms/step - loss: 1.7554 - accuracy: 0.6898 - val_loss: 1.6644 - val_accuracy: 0.7123\n",
            "Epoch 8/20\n",
            "1500/1500 [==============================] - 49s 33ms/step - loss: 1.5894 - accuracy: 0.7028 - val_loss: 1.4810 - val_accuracy: 0.7298\n",
            "Epoch 9/20\n",
            "1500/1500 [==============================] - 50s 33ms/step - loss: 1.4035 - accuracy: 0.7255 - val_loss: 1.2869 - val_accuracy: 0.7552\n",
            "Epoch 10/20\n",
            "1500/1500 [==============================] - 50s 33ms/step - loss: 1.2187 - accuracy: 0.7524 - val_loss: 1.1047 - val_accuracy: 0.7854\n",
            "Epoch 11/20\n",
            "1500/1500 [==============================] - 50s 33ms/step - loss: 1.0550 - accuracy: 0.7749 - val_loss: 0.9513 - val_accuracy: 0.8007\n",
            "Epoch 12/20\n",
            "1500/1500 [==============================] - 50s 33ms/step - loss: 0.9217 - accuracy: 0.7914 - val_loss: 0.8305 - val_accuracy: 0.8169\n",
            "Epoch 13/20\n",
            "1500/1500 [==============================] - 50s 33ms/step - loss: 0.8179 - accuracy: 0.8060 - val_loss: 0.7375 - val_accuracy: 0.8288\n",
            "Epoch 14/20\n",
            "1500/1500 [==============================] - 50s 33ms/step - loss: 0.7376 - accuracy: 0.8171 - val_loss: 0.6657 - val_accuracy: 0.8382\n",
            "Epoch 15/20\n",
            "1500/1500 [==============================] - 50s 33ms/step - loss: 0.6744 - accuracy: 0.8269 - val_loss: 0.6092 - val_accuracy: 0.8474\n",
            "Epoch 16/20\n",
            "1500/1500 [==============================] - 50s 33ms/step - loss: 0.6234 - accuracy: 0.8365 - val_loss: 0.5628 - val_accuracy: 0.8580\n",
            "Epoch 17/20\n",
            "1500/1500 [==============================] - 50s 34ms/step - loss: 0.5819 - accuracy: 0.8451 - val_loss: 0.5273 - val_accuracy: 0.8611\n",
            "Epoch 18/20\n",
            "1500/1500 [==============================] - 50s 33ms/step - loss: 0.5484 - accuracy: 0.8515 - val_loss: 0.4965 - val_accuracy: 0.8689\n",
            "Epoch 19/20\n",
            "1500/1500 [==============================] - 50s 33ms/step - loss: 0.5205 - accuracy: 0.8572 - val_loss: 0.4713 - val_accuracy: 0.8746\n",
            "Epoch 20/20\n",
            "1500/1500 [==============================] - 50s 33ms/step - loss: 0.4968 - accuracy: 0.8629 - val_loss: 0.4501 - val_accuracy: 0.8781\n"
          ]
        },
        {
          "output_type": "execute_result",
          "data": {
            "text/plain": [
              "<keras.callbacks.History at 0x7f895f8382d0>"
            ]
          },
          "metadata": {},
          "execution_count": 157
        }
      ]
    },
    {
      "cell_type": "markdown",
      "metadata": {
        "id": "_bo2jdbnU_G0"
      },
      "source": [
        "**20.\tEvaluemos el rendimiento del modelo en el conjunto de pruebas:**"
      ]
    },
    {
      "cell_type": "code",
      "metadata": {
        "colab": {
          "base_uri": "https://localhost:8080/"
        },
        "id": "gy74tFevRFYb",
        "outputId": "747ba674-2208-4e46-ee00-d925dbc0612a"
      },
      "source": [
        "model.evaluate(features_test, label_test)"
      ],
      "execution_count": null,
      "outputs": [
        {
          "output_type": "stream",
          "name": "stdout",
          "text": [
            "313/313 [==============================] - 3s 9ms/step - loss: 0.4602 - accuracy: 0.8760\n"
          ]
        },
        {
          "output_type": "execute_result",
          "data": {
            "text/plain": [
              "[0.4602177143096924, 0.8759999871253967]"
            ]
          },
          "metadata": {},
          "execution_count": 158
        }
      ]
    },
    {
      "cell_type": "markdown",
      "source": [
        "#Prediccion"
      ],
      "metadata": {
        "id": "koXa_erhIKUn"
      }
    },
    {
      "cell_type": "markdown",
      "source": [
        "**1. Importar libreria necesaria para visualizar imagen y crear las etiquetas especificas**"
      ],
      "metadata": {
        "id": "IKxDa5FNIjEK"
      }
    },
    {
      "cell_type": "code",
      "source": [
        "import matplotlib.pyplot as plt\n",
        "class_names = ['Cero', 'Uno', 'Dos', 'Tres', 'Cuatro',\n",
        "               'Cinco', 'Seis', 'Siete', 'Ocho', 'Nueve']"
      ],
      "metadata": {
        "id": "jDsfxQL42xlI"
      },
      "execution_count": null,
      "outputs": []
    },
    {
      "cell_type": "markdown",
      "source": [
        "**2. Mostrar 20 primeras imagenes con sus determinadas etiquetas del conjunto de datos de test.**"
      ],
      "metadata": {
        "id": "KNbAepDWIsHd"
      }
    },
    {
      "cell_type": "code",
      "source": [
        "plt.figure(figsize=(10,10))\n",
        "for i in range(20):\n",
        "    plt.subplot(5,5,i+1)\n",
        "    plt.xticks([])\n",
        "    plt.yticks([])\n",
        "    plt.grid(False)\n",
        "    plt.imshow(tf.squeeze(features_test[i]))\n",
        "    plt.xlabel(class_names[label_test[i]])\n",
        "plt.show()"
      ],
      "metadata": {
        "colab": {
          "base_uri": "https://localhost:8080/",
          "height": 476
        },
        "id": "XhOr6ON05xa6",
        "outputId": "550071e7-4047-42f7-8862-8ad33739a40f"
      },
      "execution_count": null,
      "outputs": [
        {
          "output_type": "display_data",
          "data": {
            "image/png": "[encoded data removed]",
            "text/plain": [
              "<Figure size 720x720 with 20 Axes>"
            ]
          },
          "metadata": {}
        }
      ]
    },
    {
      "cell_type": "markdown",
      "source": [
        "**3. Mostrar 20 primeras imagenes pero binarizadas del conjunto de datos de test.**"
      ],
      "metadata": {
        "id": "tWIMgo16I47m"
      }
    },
    {
      "cell_type": "code",
      "source": [
        "plt.figure(figsize=(10,10))\n",
        "for i in range(20):\n",
        "    plt.subplot(5,5,i+1)\n",
        "    plt.xticks([])\n",
        "    plt.yticks([])\n",
        "    plt.grid(False)\n",
        "    plt.imshow(tf.squeeze(features_test[i]), cmap=plt.cm.binary)\n",
        "    plt.xlabel(class_names[label_test[i]])\n",
        "plt.show()"
      ],
      "metadata": {
        "colab": {
          "base_uri": "https://localhost:8080/",
          "height": 476
        },
        "id": "lLFHNX-sIDdE",
        "outputId": "5e88183a-0c37-4913-ee49-ae0f028522dc"
      },
      "execution_count": null,
      "outputs": [
        {
          "output_type": "display_data",
          "data": {
            "image/png": "[encoded data removed]",
            "text/plain": [
              "<Figure size 720x720 with 20 Axes>"
            ]
          },
          "metadata": {}
        }
      ]
    },
    {
      "cell_type": "markdown",
      "source": [
        "**4. Predecir con los datos de test**"
      ],
      "metadata": {
        "id": "BBLj_6dBIN1U"
      }
    },
    {
      "cell_type": "code",
      "source": [
        "predictions = model.predict(features_test)"
      ],
      "metadata": {
        "id": "mJUkuEjJ7HIo"
      },
      "execution_count": null,
      "outputs": []
    },
    {
      "cell_type": "markdown",
      "source": [
        "**5. Construir modulos para predecir y para mostrar las imagenes**"
      ],
      "metadata": {
        "id": "Q1preSBGIffv"
      }
    },
    {
      "cell_type": "code",
      "source": [
        "def plot_image(i, predictions_array, true_label, img):\n",
        "  predictions_array, true_label, img = predictions_array, true_label[i], img[i]\n",
        "  plt.title('Imagen de entrada')\n",
        "  plt.grid(False)\n",
        "  plt.xticks([])\n",
        "  plt.yticks([])\n",
        "  plt.imshow(img, cmap=plt.cm.binary)\n",
        "  predicted_label = np.argmax(predictions_array)\n",
        "  if predicted_label == true_label:\n",
        "    color = 'blue'\n",
        "  else:\n",
        "    color = 'red'\n",
        "  plt.xlabel(\"{} {:2.0f}% ({})\".format(class_names[predicted_label], 100*np.max(predictions_array),\n",
        "                                class_names[true_label]),\n",
        "                                color=color)\n",
        "\n",
        "def plot_value_array(i, predictions_array, true_label):\n",
        "  predictions_array, true_label = predictions_array, true_label[i]\n",
        "  plt.title('Predicción')\n",
        "  plt.grid(False)\n",
        "  plt.xticks(range(10))\n",
        "  plt.yticks([])\n",
        "  thisplot = plt.bar(range(10), predictions_array, color=\"#777777\")\n",
        "  plt.ylim([0, 1])\n",
        "  predicted_label = np.argmax(predictions_array)\n",
        "\n",
        "  thisplot[predicted_label].set_color('red')\n",
        "  thisplot[true_label].set_color('green')\n",
        "\n",
        "def Mostrar_Prediccion_Individual(indice, predictions, features_test):\n",
        "  predictions_array, true_label = predictions[indice], label_test\n",
        "  predicted_label = np.argmax(predictions_array)\n",
        "  print(\"====PREDICCIÓN====\\nLabel de prediccion: {}\\nPrecision {:2.0f}%\\n(Label verdadero: {})\\n\".format(class_names[predicted_label],\n",
        "                                100*np.max(predictions_array),\n",
        "                                class_names[true_label[indice]]))\n",
        "  plt.figure(figsize=(6,3))\n",
        "  plt.subplot(1,2,1)\n",
        "  plot_image(indice, predictions[indice], label_test, tf.squeeze(features_test))\n",
        "  plt.subplot(1,2,2)\n",
        "  plot_value_array(indice, predictions[indice],  label_test)\n",
        "  plt.show()\n",
        "\n",
        "def Mostrar_Prediccion_Varios(filas,columnas, predictions, features_test):\n",
        "  num_rows = filas\n",
        "  num_cols = columnas\n",
        "  num_images = num_rows*num_cols\n",
        "  plt.figure(figsize=(2*2*num_cols, 2*num_rows))\n",
        "  for i in range(num_images):\n",
        "    plt.subplot(num_rows, 2*num_cols, 2*i+1)\n",
        "    plot_image(i, predictions[i], label_test, tf.squeeze(features_test))\n",
        "    plt.subplot(num_rows, 2*num_cols, 2*i+2)\n",
        "    plot_value_array(i, predictions[i], label_test)\n",
        "  plt.tight_layout()\n",
        "  plt.show()"
      ],
      "metadata": {
        "id": "ya8zBxmN7ctb"
      },
      "execution_count": null,
      "outputs": []
    },
    {
      "cell_type": "markdown",
      "source": [
        "**6. Mostrar prediccion para una imagen, en este caso para la primera imagen de todo el conjunto de datos para el test.**"
      ],
      "metadata": {
        "id": "WutZqns7JLB6"
      }
    },
    {
      "cell_type": "code",
      "source": [
        "#Prediccion con los datos de test, muestra el primer elemento \"0\"\n",
        "Mostrar_Prediccion_Individual(0, predictions, features_test)"
      ],
      "metadata": {
        "colab": {
          "base_uri": "https://localhost:8080/",
          "height": 314
        },
        "id": "_D0h7SqLBF6X",
        "outputId": "517388b3-f68b-4210-ac15-4cd2826e279f"
      },
      "execution_count": null,
      "outputs": [
        {
          "output_type": "stream",
          "name": "stdout",
          "text": [
            "====PREDICCIÓN====\n",
            "Label de prediccion: Siete\n",
            "Precision 100%\n",
            "(Label verdadero: Siete)\n",
            "\n"
          ]
        },
        {
          "output_type": "display_data",
          "data": {
            "image/png": "[encoded data removed]",
            "text/plain": [
              "<Figure size 432x216 with 2 Axes>"
            ]
          },
          "metadata": {
            "needs_background": "light"
          }
        }
      ]
    },
    {
      "cell_type": "markdown",
      "source": [
        "**7. Mostrar prediccion de las 20 primeras imagenes del conjunto de datos para el test**"
      ],
      "metadata": {
        "id": "zg-Ei--yJZ5j"
      }
    },
    {
      "cell_type": "code",
      "source": [
        "#Prediccion con los datos de test, mostrar las 4 filas y 5 columnas\n",
        "Mostrar_Prediccion_Varios(4, 5, predictions, features_test)"
      ],
      "metadata": {
        "colab": {
          "base_uri": "https://localhost:8080/",
          "height": 582
        },
        "id": "dLOgs4sZGs1h",
        "outputId": "4a247fad-eb3f-4a30-d0d3-a4af17918f2f"
      },
      "execution_count": null,
      "outputs": [
        {
          "output_type": "display_data",
          "data": {
            "image/png": "[encoded data removed]",
            "text/plain": [
              "<Figure size 1440x576 with 40 Axes>"
            ]
          },
          "metadata": {
            "needs_background": "light"
          }
        }
      ]
    }
  ]
}