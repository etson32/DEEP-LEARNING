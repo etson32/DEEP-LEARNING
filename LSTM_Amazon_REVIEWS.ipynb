{
  "cells": [
    {
      "cell_type": "markdown",
      "source": [
        "#TERCER EXAMEN PARCIAL\n",
        "---\n",
        "```\n",
        "Universidad Nacional de San Antonio Abad del Cusco\n",
        "Asignatura: Deep Learning\n",
        "Docente   : Ivan Cesar Medrano Valencia\n",
        "Autores   : Etson Ronaldao Rojas Cahuana\n",
        "Fecha     : 31/01/2022\n",
        "Lugar     : Cusco, Perú\n",
        "Proposito : Construir un modelo de clasificación de opiniones sobre las reseñas de productos de Amazon\n",
        "```\n",
        "---"
      ],
      "metadata": {
        "id": "EfZBA-CslE04"
      }
    },
    {
      "cell_type": "markdown",
      "source": [
        "#Lectura de datos"
      ],
      "metadata": {
        "id": "re3SihlI4hDt"
      }
    },
    {
      "cell_type": "code",
      "source": [
        "from google.colab import drive\n",
        "drive.mount('/content/drive')"
      ],
      "metadata": {
        "colab": {
          "base_uri": "https://localhost:8080/"
        },
        "id": "4OMZmLYGldXN",
        "outputId": "41c92bd8-dde8-4d8b-8e13-59bf7b5d6730"
      },
      "execution_count": null,
      "outputs": [
        {
          "output_type": "stream",
          "name": "stdout",
          "text": [
            "Mounted at /content/drive\n"
          ]
        }
      ]
    },
    {
      "cell_type": "code",
      "execution_count": null,
      "metadata": {
        "id": "R_2I-hzbkuCy"
      },
      "outputs": [],
      "source": [
        "import pandas as pd, numpy as np\n",
        "import matplotlib.pyplot as plt\n",
        "%matplotlib inline"
      ]
    },
    {
      "cell_type": "code",
      "execution_count": null,
      "metadata": {
        "_cell_guid": "79c7e3d0-c299-4dcb-8224-4455121ee9b0",
        "_uuid": "d629ff2d2480ee46fbb7e2d37f6b5fab8052498a",
        "id": "y1E_h4ctkuCz"
      },
      "outputs": [],
      "source": [
        "#Leer datos de google drive montado\n",
        "train_path = '/content/drive/MyDrive/EXAMEN 3 DEEP LEARNING/Amazon_reviews_train.csv'\n",
        "test_path = '/content/drive/MyDrive/EXAMEN 3 DEEP LEARNING/Amazon_reviews_test.csv'\n",
        "train_df = pd.read_csv(train_path)\n",
        "test_df = pd.read_csv(test_path)"
      ]
    },
    {
      "cell_type": "markdown",
      "source": [
        "#Mostrar datos"
      ],
      "metadata": {
        "id": "Lt4qq5gT40Av"
      }
    },
    {
      "cell_type": "code",
      "execution_count": null,
      "metadata": {
        "id": "jH01M2s0kuC0",
        "outputId": "6b4c34b1-dc05-47a0-e757-b8e2853e98c3",
        "colab": {
          "base_uri": "https://localhost:8080/",
          "height": 380
        }
      },
      "outputs": [
        {
          "output_type": "stream",
          "name": "stdout",
          "text": [
            "(25000, 2) (25000, 2)\n"
          ]
        },
        {
          "output_type": "execute_result",
          "data": {
            "text/html": [
              "\n",
              "  <div id=\"df-3a372960-f8ef-4233-8f70-4caf3b966bc9\">\n",
              "    <div class=\"colab-df-container\">\n",
              "      <div>\n",
              "<style scoped>\n",
              "    .dataframe tbody tr th:only-of-type {\n",
              "        vertical-align: middle;\n",
              "    }\n",
              "\n",
              "    .dataframe tbody tr th {\n",
              "        vertical-align: top;\n",
              "    }\n",
              "\n",
              "    .dataframe thead th {\n",
              "        text-align: right;\n",
              "    }\n",
              "</style>\n",
              "<table border=\"1\" class=\"dataframe\">\n",
              "  <thead>\n",
              "    <tr style=\"text-align: right;\">\n",
              "      <th></th>\n",
              "      <th>review_text</th>\n",
              "      <th>label</th>\n",
              "    </tr>\n",
              "  </thead>\n",
              "  <tbody>\n",
              "    <tr>\n",
              "      <th>0</th>\n",
              "      <td>Stuning even for the non-gamer: This sound tra...</td>\n",
              "      <td>1</td>\n",
              "    </tr>\n",
              "    <tr>\n",
              "      <th>1</th>\n",
              "      <td>The best soundtrack ever to anything.: I'm rea...</td>\n",
              "      <td>1</td>\n",
              "    </tr>\n",
              "    <tr>\n",
              "      <th>2</th>\n",
              "      <td>Amazing!: This soundtrack is my favorite music...</td>\n",
              "      <td>1</td>\n",
              "    </tr>\n",
              "    <tr>\n",
              "      <th>3</th>\n",
              "      <td>Excellent Soundtrack: I truly like this soundt...</td>\n",
              "      <td>1</td>\n",
              "    </tr>\n",
              "    <tr>\n",
              "      <th>4</th>\n",
              "      <td>Remember, Pull Your Jaw Off The Floor After He...</td>\n",
              "      <td>1</td>\n",
              "    </tr>\n",
              "    <tr>\n",
              "      <th>5</th>\n",
              "      <td>an absolute masterpiece: I am quite sure any o...</td>\n",
              "      <td>1</td>\n",
              "    </tr>\n",
              "    <tr>\n",
              "      <th>6</th>\n",
              "      <td>Buyer beware: This is a self-published book, a...</td>\n",
              "      <td>0</td>\n",
              "    </tr>\n",
              "    <tr>\n",
              "      <th>7</th>\n",
              "      <td>Glorious story: I loved Whisper of the wicked ...</td>\n",
              "      <td>1</td>\n",
              "    </tr>\n",
              "    <tr>\n",
              "      <th>8</th>\n",
              "      <td>A FIVE STAR BOOK: I just finished reading Whis...</td>\n",
              "      <td>1</td>\n",
              "    </tr>\n",
              "    <tr>\n",
              "      <th>9</th>\n",
              "      <td>Whispers of the Wicked Saints: This was a easy...</td>\n",
              "      <td>1</td>\n",
              "    </tr>\n",
              "  </tbody>\n",
              "</table>\n",
              "</div>\n",
              "      <button class=\"colab-df-convert\" onclick=\"convertToInteractive('df-3a372960-f8ef-4233-8f70-4caf3b966bc9')\"\n",
              "              title=\"Convert this dataframe to an interactive table.\"\n",
              "              style=\"display:none;\">\n",
              "        \n",
              "  <svg xmlns=\"http://www.w3.org/2000/svg\" height=\"24px\"viewBox=\"0 0 24 24\"\n",
              "       width=\"24px\">\n",
              "    <path d=\"M0 0h24v24H0V0z\" fill=\"none\"/>\n",
              "    <path d=\"M18.56 5.44l.94 2.06.94-2.06 2.06-.94-2.06-.94-.94-2.06-.94 2.06-2.06.94zm-11 1L8.5 8.5l.94-2.06 2.06-.94-2.06-.94L8.5 2.5l-.94 2.06-2.06.94zm10 10l.94 2.06.94-2.06 2.06-.94-2.06-.94-.94-2.06-.94 2.06-2.06.94z\"/><path d=\"M17.41 7.96l-1.37-1.37c-.4-.4-.92-.59-1.43-.59-.52 0-1.04.2-1.43.59L10.3 9.45l-7.72 7.72c-.78.78-.78 2.05 0 2.83L4 21.41c.39.39.9.59 1.41.59.51 0 1.02-.2 1.41-.59l7.78-7.78 2.81-2.81c.8-.78.8-2.07 0-2.86zM5.41 20L4 18.59l7.72-7.72 1.47 1.35L5.41 20z\"/>\n",
              "  </svg>\n",
              "      </button>\n",
              "      \n",
              "  <style>\n",
              "    .colab-df-container {\n",
              "      display:flex;\n",
              "      flex-wrap:wrap;\n",
              "      gap: 12px;\n",
              "    }\n",
              "\n",
              "    .colab-df-convert {\n",
              "      background-color: #E8F0FE;\n",
              "      border: none;\n",
              "      border-radius: 50%;\n",
              "      cursor: pointer;\n",
              "      display: none;\n",
              "      fill: #1967D2;\n",
              "      height: 32px;\n",
              "      padding: 0 0 0 0;\n",
              "      width: 32px;\n",
              "    }\n",
              "\n",
              "    .colab-df-convert:hover {\n",
              "      background-color: #E2EBFA;\n",
              "      box-shadow: 0px 1px 2px rgba(60, 64, 67, 0.3), 0px 1px 3px 1px rgba(60, 64, 67, 0.15);\n",
              "      fill: #174EA6;\n",
              "    }\n",
              "\n",
              "    [theme=dark] .colab-df-convert {\n",
              "      background-color: #3B4455;\n",
              "      fill: #D2E3FC;\n",
              "    }\n",
              "\n",
              "    [theme=dark] .colab-df-convert:hover {\n",
              "      background-color: #434B5C;\n",
              "      box-shadow: 0px 1px 3px 1px rgba(0, 0, 0, 0.15);\n",
              "      filter: drop-shadow(0px 1px 2px rgba(0, 0, 0, 0.3));\n",
              "      fill: #FFFFFF;\n",
              "    }\n",
              "  </style>\n",
              "\n",
              "      <script>\n",
              "        const buttonEl =\n",
              "          document.querySelector('#df-3a372960-f8ef-4233-8f70-4caf3b966bc9 button.colab-df-convert');\n",
              "        buttonEl.style.display =\n",
              "          google.colab.kernel.accessAllowed ? 'block' : 'none';\n",
              "\n",
              "        async function convertToInteractive(key) {\n",
              "          const element = document.querySelector('#df-3a372960-f8ef-4233-8f70-4caf3b966bc9');\n",
              "          const dataTable =\n",
              "            await google.colab.kernel.invokeFunction('convertToInteractive',\n",
              "                                                     [key], {});\n",
              "          if (!dataTable) return;\n",
              "\n",
              "          const docLinkHtml = 'Like what you see? Visit the ' +\n",
              "            '<a target=\"_blank\" href=https://colab.research.google.com/notebooks/data_table.ipynb>data table notebook</a>'\n",
              "            + ' to learn more about interactive tables.';\n",
              "          element.innerHTML = '';\n",
              "          dataTable['output_type'] = 'display_data';\n",
              "          await google.colab.output.renderOutput(dataTable, element);\n",
              "          const docLink = document.createElement('div');\n",
              "          docLink.innerHTML = docLinkHtml;\n",
              "          element.appendChild(docLink);\n",
              "        }\n",
              "      </script>\n",
              "    </div>\n",
              "  </div>\n",
              "  "
            ],
            "text/plain": [
              "                                         review_text  label\n",
              "0  Stuning even for the non-gamer: This sound tra...      1\n",
              "1  The best soundtrack ever to anything.: I'm rea...      1\n",
              "2  Amazing!: This soundtrack is my favorite music...      1\n",
              "3  Excellent Soundtrack: I truly like this soundt...      1\n",
              "4  Remember, Pull Your Jaw Off The Floor After He...      1\n",
              "5  an absolute masterpiece: I am quite sure any o...      1\n",
              "6  Buyer beware: This is a self-published book, a...      0\n",
              "7  Glorious story: I loved Whisper of the wicked ...      1\n",
              "8  A FIVE STAR BOOK: I just finished reading Whis...      1\n",
              "9  Whispers of the Wicked Saints: This was a easy...      1"
            ]
          },
          "metadata": {},
          "execution_count": 5
        }
      ],
      "source": [
        "#print and examine first 5 records\n",
        "print(train_df.shape, train_df.shape)\n",
        "train_df.head(10)"
      ]
    },
    {
      "cell_type": "markdown",
      "metadata": {
        "id": "u39ig8ONkuC0"
      },
      "source": [
        " ## Separacion de datos.\n",
        "  - train_raw: Texto sin procesar para los datos de entrenamiento\n",
        "  - train_labels: Etiquetas para los datos de entrenamiento\n",
        "  - test_raw: Texto sin procesar para los datos de test\n",
        "  - test_labels: Etiquetas para los datos de test"
      ]
    },
    {
      "cell_type": "code",
      "execution_count": null,
      "metadata": {
        "id": "w8FwCs0ekuC1"
      },
      "outputs": [],
      "source": [
        "train_raw = train_df.review_text.values\n",
        "train_labels = train_df.label.values"
      ]
    },
    {
      "cell_type": "code",
      "execution_count": null,
      "metadata": {
        "id": "eURWQrA0kuC1"
      },
      "outputs": [],
      "source": [
        "test_raw = test_df.review_text.values\n",
        "test_labels = test_df.label.values"
      ]
    },
    {
      "cell_type": "markdown",
      "source": [
        "Mostrar 0-5 opiniones del conjunto de entrenamiento"
      ],
      "metadata": {
        "id": "Swyos--nnB9r"
      }
    },
    {
      "cell_type": "code",
      "execution_count": null,
      "metadata": {
        "id": "gVMI_vklkuC1",
        "outputId": "3e65a428-27d6-48c8-c186-862cc67e8709",
        "colab": {
          "base_uri": "https://localhost:8080/"
        }
      },
      "outputs": [
        {
          "output_type": "execute_result",
          "data": {
            "text/plain": [
              "array(['Stuning even for the non-gamer: This sound track was beautiful! It paints the senery in your mind so well I would recomend it even to people who hate vid. game music! I have played the game Chrono Cross but out of all of the games I have ever played it has the best music! It backs away from crude keyboarding and takes a fresher step with grate guitars and soulful orchestras. It would impress anyone who cares to listen! ^_^',\n",
              "       \"The best soundtrack ever to anything.: I'm reading a lot of reviews saying that this is the best 'game soundtrack' and I figured that I'd write a review to disagree a bit. This in my opinino is Yasunori Mitsuda's ultimate masterpiece. The music is timeless and I'm been listening to it for years now and its beauty simply refuses to fade.The price tag on this is pretty staggering I must say, but if you are going to buy any cd for this much money, this is the only one that I feel would be worth every penny.\",\n",
              "       'Amazing!: This soundtrack is my favorite music of all time, hands down. The intense sadness of \"Prisoners of Fate\" (which means all the more if you\\'ve played the game) and the hope in \"A Distant Promise\" and \"Girl who Stole the Star\" have been an important inspiration to me personally throughout my teen years. The higher energy tracks like \"Chrono Cross ~ Time\\'s Scar~\", \"Time of the Dreamwatch\", and \"Chronomantique\" (indefinably remeniscent of Chrono Trigger) are all absolutely superb as well.This soundtrack is amazing music, probably the best of this composer\\'s work (I haven\\'t heard the Xenogears soundtrack, so I can\\'t say for sure), and even if you\\'ve never played the game, it would be worth twice the price to buy it.I wish I could give it 6 stars.',\n",
              "       \"Excellent Soundtrack: I truly like this soundtrack and I enjoy video game music. I have played this game and most of the music on here I enjoy and it's truly relaxing and peaceful.On disk one. my favorites are Scars Of Time, Between Life and Death, Forest Of Illusion, Fortress of Ancient Dragons, Lost Fragment, and Drowned Valley.Disk Two: The Draggons, Galdorb - Home, Chronomantique, Prisoners of Fate, Gale, and my girlfriend likes ZelbessDisk Three: The best of the three. Garden Of God, Chronopolis, Fates, Jellyfish sea, Burning Orphange, Dragon's Prayer, Tower Of Stars, Dragon God, and Radical Dreamers - Unstealable Jewel.Overall, this is a excellent soundtrack and should be brought by those that like video game music.Xander Cross\",\n",
              "       \"Remember, Pull Your Jaw Off The Floor After Hearing it: If you've played the game, you know how divine the music is! Every single song tells a story of the game, it's that good! The greatest songs are without a doubt, Chrono Cross: Time's Scar, Magical Dreamers: The Wind, The Stars, and the Sea and Radical Dreamers: Unstolen Jewel. (Translation varies) This music is perfect if you ask me, the best it can be. Yasunori Mitsuda just poured his heart on and wrote it down on paper.\"],\n",
              "      dtype=object)"
            ]
          },
          "metadata": {},
          "execution_count": 9
        }
      ],
      "source": [
        "train_raw[:5]"
      ]
    },
    {
      "cell_type": "markdown",
      "source": [
        "#a. Limpieza y preparación de datos:  5 puntos."
      ],
      "metadata": {
        "id": "6-eQl_4dsdpv"
      }
    },
    {
      "cell_type": "markdown",
      "source": [
        "Volver a minusculas y tokenizar para cada opinion."
      ],
      "metadata": {
        "id": "P1l4K5WInJRf"
      }
    },
    {
      "cell_type": "code",
      "execution_count": null,
      "metadata": {
        "id": "JLainB4-kuC2",
        "colab": {
          "base_uri": "https://localhost:8080/"
        },
        "outputId": "ff7bf913-e137-490e-cdd8-a3b2b41649c0"
      },
      "outputs": [
        {
          "output_type": "stream",
          "name": "stdout",
          "text": [
            "[nltk_data] Downloading package punkt to /root/nltk_data...\n",
            "[nltk_data]   Unzipping tokenizers/punkt.zip.\n"
          ]
        }
      ],
      "source": [
        "import nltk\n",
        "from string import punctuation\n",
        "from nltk.corpus import stopwords\n",
        "from nltk.tokenize import word_tokenize\n",
        "from nltk.stem import PorterStemmer\n",
        "from tensorflow.keras.preprocessing.text import Tokenizer\n",
        "nltk.download('punkt')"
      ]
    },
    {
      "cell_type": "code",
      "execution_count": null,
      "metadata": {
        "id": "WIe70Zd2kuC2"
      },
      "outputs": [],
      "source": [
        "train_tokens = [word_tokenize(review.lower()) for review in train_raw]\n",
        "test_tokens = [word_tokenize(review.lower()) for review in test_raw]"
      ]
    },
    {
      "cell_type": "markdown",
      "source": [
        "Mostrar la tokenizacion de las 5 primeras opiniones."
      ],
      "metadata": {
        "id": "-KYfN7_Hnt4W"
      }
    },
    {
      "cell_type": "code",
      "execution_count": null,
      "metadata": {
        "id": "LVBcHLatkuC3",
        "outputId": "2bc7038c-c5fe-4e7a-cd38-649c80d52291",
        "colab": {
          "base_uri": "https://localhost:8080/"
        }
      },
      "outputs": [
        {
          "output_type": "stream",
          "name": "stdout",
          "text": [
            "['stuning', 'even', 'for', 'the', 'non-gamer', ':', 'this', 'sound', 'track', 'was', 'beautiful', '!', 'it', 'paints', 'the', 'senery', 'in', 'your', 'mind', 'so', 'well', 'i', 'would', 'recomend', 'it', 'even', 'to', 'people', 'who', 'hate', 'vid', '.', 'game', 'music', '!', 'i', 'have', 'played', 'the', 'game', 'chrono', 'cross', 'but', 'out', 'of', 'all', 'of', 'the', 'games', 'i', 'have', 'ever', 'played', 'it', 'has', 'the', 'best', 'music', '!', 'it', 'backs', 'away', 'from', 'crude', 'keyboarding', 'and', 'takes', 'a', 'fresher', 'step', 'with', 'grate', 'guitars', 'and', 'soulful', 'orchestras', '.', 'it', 'would', 'impress', 'anyone', 'who', 'cares', 'to', 'listen', '!', '^_^']\n",
            "['the', 'best', 'soundtrack', 'ever', 'to', 'anything', '.', ':', 'i', \"'m\", 'reading', 'a', 'lot', 'of', 'reviews', 'saying', 'that', 'this', 'is', 'the', 'best', \"'game\", 'soundtrack', \"'\", 'and', 'i', 'figured', 'that', 'i', \"'d\", 'write', 'a', 'review', 'to', 'disagree', 'a', 'bit', '.', 'this', 'in', 'my', 'opinino', 'is', 'yasunori', 'mitsuda', \"'s\", 'ultimate', 'masterpiece', '.', 'the', 'music', 'is', 'timeless', 'and', 'i', \"'m\", 'been', 'listening', 'to', 'it', 'for', 'years', 'now', 'and', 'its', 'beauty', 'simply', 'refuses', 'to', 'fade.the', 'price', 'tag', 'on', 'this', 'is', 'pretty', 'staggering', 'i', 'must', 'say', ',', 'but', 'if', 'you', 'are', 'going', 'to', 'buy', 'any', 'cd', 'for', 'this', 'much', 'money', ',', 'this', 'is', 'the', 'only', 'one', 'that', 'i', 'feel', 'would', 'be', 'worth', 'every', 'penny', '.']\n",
            "['amazing', '!', ':', 'this', 'soundtrack', 'is', 'my', 'favorite', 'music', 'of', 'all', 'time', ',', 'hands', 'down', '.', 'the', 'intense', 'sadness', 'of', '``', 'prisoners', 'of', 'fate', \"''\", '(', 'which', 'means', 'all', 'the', 'more', 'if', 'you', \"'ve\", 'played', 'the', 'game', ')', 'and', 'the', 'hope', 'in', '``', 'a', 'distant', 'promise', \"''\", 'and', '``', 'girl', 'who', 'stole', 'the', 'star', \"''\", 'have', 'been', 'an', 'important', 'inspiration', 'to', 'me', 'personally', 'throughout', 'my', 'teen', 'years', '.', 'the', 'higher', 'energy', 'tracks', 'like', '``', 'chrono', 'cross', '~', 'time', \"'s\", 'scar~', \"''\", ',', '``', 'time', 'of', 'the', 'dreamwatch', \"''\", ',', 'and', '``', 'chronomantique', \"''\", '(', 'indefinably', 'remeniscent', 'of', 'chrono', 'trigger', ')', 'are', 'all', 'absolutely', 'superb', 'as', 'well.this', 'soundtrack', 'is', 'amazing', 'music', ',', 'probably', 'the', 'best', 'of', 'this', 'composer', \"'s\", 'work', '(', 'i', 'have', \"n't\", 'heard', 'the', 'xenogears', 'soundtrack', ',', 'so', 'i', 'ca', \"n't\", 'say', 'for', 'sure', ')', ',', 'and', 'even', 'if', 'you', \"'ve\", 'never', 'played', 'the', 'game', ',', 'it', 'would', 'be', 'worth', 'twice', 'the', 'price', 'to', 'buy', 'it.i', 'wish', 'i', 'could', 'give', 'it', '6', 'stars', '.']\n",
            "['excellent', 'soundtrack', ':', 'i', 'truly', 'like', 'this', 'soundtrack', 'and', 'i', 'enjoy', 'video', 'game', 'music', '.', 'i', 'have', 'played', 'this', 'game', 'and', 'most', 'of', 'the', 'music', 'on', 'here', 'i', 'enjoy', 'and', 'it', \"'s\", 'truly', 'relaxing', 'and', 'peaceful.on', 'disk', 'one', '.', 'my', 'favorites', 'are', 'scars', 'of', 'time', ',', 'between', 'life', 'and', 'death', ',', 'forest', 'of', 'illusion', ',', 'fortress', 'of', 'ancient', 'dragons', ',', 'lost', 'fragment', ',', 'and', 'drowned', 'valley.disk', 'two', ':', 'the', 'draggons', ',', 'galdorb', '-', 'home', ',', 'chronomantique', ',', 'prisoners', 'of', 'fate', ',', 'gale', ',', 'and', 'my', 'girlfriend', 'likes', 'zelbessdisk', 'three', ':', 'the', 'best', 'of', 'the', 'three', '.', 'garden', 'of', 'god', ',', 'chronopolis', ',', 'fates', ',', 'jellyfish', 'sea', ',', 'burning', 'orphange', ',', 'dragon', \"'s\", 'prayer', ',', 'tower', 'of', 'stars', ',', 'dragon', 'god', ',', 'and', 'radical', 'dreamers', '-', 'unstealable', 'jewel.overall', ',', 'this', 'is', 'a', 'excellent', 'soundtrack', 'and', 'should', 'be', 'brought', 'by', 'those', 'that', 'like', 'video', 'game', 'music.xander', 'cross']\n",
            "['remember', ',', 'pull', 'your', 'jaw', 'off', 'the', 'floor', 'after', 'hearing', 'it', ':', 'if', 'you', \"'ve\", 'played', 'the', 'game', ',', 'you', 'know', 'how', 'divine', 'the', 'music', 'is', '!', 'every', 'single', 'song', 'tells', 'a', 'story', 'of', 'the', 'game', ',', 'it', \"'s\", 'that', 'good', '!', 'the', 'greatest', 'songs', 'are', 'without', 'a', 'doubt', ',', 'chrono', 'cross', ':', 'time', \"'s\", 'scar', ',', 'magical', 'dreamers', ':', 'the', 'wind', ',', 'the', 'stars', ',', 'and', 'the', 'sea', 'and', 'radical', 'dreamers', ':', 'unstolen', 'jewel', '.', '(', 'translation', 'varies', ')', 'this', 'music', 'is', 'perfect', 'if', 'you', 'ask', 'me', ',', 'the', 'best', 'it', 'can', 'be', '.', 'yasunori', 'mitsuda', 'just', 'poured', 'his', 'heart', 'on', 'and', 'wrote', 'it', 'down', 'on', 'paper', '.']\n"
          ]
        }
      ],
      "source": [
        "#Print the first review from the train data to check if the tokenization worked.\n",
        "print(train_tokens[0])\n",
        "print(train_tokens[1])\n",
        "print(train_tokens[2])\n",
        "print(train_tokens[3])\n",
        "print(train_tokens[4])"
      ]
    },
    {
      "cell_type": "markdown",
      "source": [
        "Aun nos faltará hacer mas limpiezas, puesto que se tokenizaron algunos signos de puntuacion y otros caracteres."
      ],
      "metadata": {
        "id": "jy1UqXoBoE7Z"
      }
    },
    {
      "cell_type": "code",
      "execution_count": null,
      "metadata": {
        "id": "gL6ndiEgkuC3",
        "colab": {
          "base_uri": "https://localhost:8080/"
        },
        "outputId": "480657cc-9cf2-4320-b51f-8c4c24016fe9"
      },
      "outputs": [
        {
          "output_type": "stream",
          "name": "stdout",
          "text": [
            "[nltk_data] Downloading package stopwords to /root/nltk_data...\n",
            "[nltk_data]   Unzipping corpora/stopwords.zip.\n"
          ]
        }
      ],
      "source": [
        "#Descargar un corpus de stopwords\n",
        "stop_punct = list(punctuation)\n",
        "nltk.download(\"stopwords\")\n",
        "stop_nltk = stopwords.words(\"english\")"
      ]
    },
    {
      "cell_type": "code",
      "execution_count": null,
      "metadata": {
        "id": "-d7U7Cf8kuC4"
      },
      "outputs": [],
      "source": [
        "def drop_stop(input_tokens):\n",
        "    return [token for token in input_tokens if token not in stop_final]"
      ]
    },
    {
      "cell_type": "code",
      "execution_count": null,
      "metadata": {
        "id": "R7-xBIDikuC3"
      },
      "outputs": [],
      "source": [
        "stop_final = stop_punct + stop_nltk"
      ]
    },
    {
      "cell_type": "code",
      "execution_count": null,
      "metadata": {
        "id": "GRvr8eGzkuC4"
      },
      "outputs": [],
      "source": [
        "train_tokens_no_stop = [drop_stop(sent) for sent in train_tokens]\n",
        "test_tokens_no_stop = [drop_stop(sent) for sent in test_tokens]"
      ]
    },
    {
      "cell_type": "markdown",
      "source": [
        "Mostrar las 5 primeras opiniones tokenizadas y limpiadas de los signos de puntuacion y otros caracteres que son considerados como stopwords (palabras o simbolos que no aportaran mucho)"
      ],
      "metadata": {
        "id": "pbkHTQgEoX_j"
      }
    },
    {
      "cell_type": "code",
      "execution_count": null,
      "metadata": {
        "id": "QyzODmswkuC4",
        "outputId": "0cc60acb-0fd9-40d8-c154-b5f13cf5b989",
        "colab": {
          "base_uri": "https://localhost:8080/"
        }
      },
      "outputs": [
        {
          "output_type": "stream",
          "name": "stdout",
          "text": [
            "['stuning', 'even', 'non-gamer', 'sound', 'track', 'beautiful', 'paints', 'senery', 'mind', 'well', 'would', 'recomend', 'even', 'people', 'hate', 'vid', 'game', 'music', 'played', 'game', 'chrono', 'cross', 'games', 'ever', 'played', 'best', 'music', 'backs', 'away', 'crude', 'keyboarding', 'takes', 'fresher', 'step', 'grate', 'guitars', 'soulful', 'orchestras', 'would', 'impress', 'anyone', 'cares', 'listen', '^_^']\n"
          ]
        }
      ],
      "source": [
        "print(train_tokens_no_stop[0])"
      ]
    },
    {
      "cell_type": "markdown",
      "source": [
        "Reduccion de las palabras a su forma base con stemmer"
      ],
      "metadata": {
        "id": "Up1-cMVY6al-"
      }
    },
    {
      "cell_type": "code",
      "execution_count": null,
      "metadata": {
        "id": "w0XtX9TOkuC4"
      },
      "outputs": [],
      "source": [
        "stemmer_p = PorterStemmer()"
      ]
    },
    {
      "cell_type": "code",
      "execution_count": null,
      "metadata": {
        "id": "kLGrlqbUkuC4"
      },
      "outputs": [],
      "source": [
        "train_tokens_stem = [[stemmer_p.stem(token) for token in sent] for sent in train_tokens_no_stop]\n",
        "test_tokens_stem = [[stemmer_p.stem(token) for token in sent] for sent in test_tokens_no_stop]"
      ]
    },
    {
      "cell_type": "code",
      "execution_count": null,
      "metadata": {
        "id": "yDO4idWKkuC5",
        "outputId": "14981765-bd9b-4a02-ee9d-c86fab757dec",
        "colab": {
          "base_uri": "https://localhost:8080/"
        }
      },
      "outputs": [
        {
          "output_type": "stream",
          "name": "stdout",
          "text": [
            "['stune', 'even', 'non-gam', 'sound', 'track', 'beauti', 'paint', 'seneri', 'mind', 'well', 'would', 'recomend', 'even', 'peopl', 'hate', 'vid', 'game', 'music', 'play', 'game', 'chrono', 'cross', 'game', 'ever', 'play', 'best', 'music', 'back', 'away', 'crude', 'keyboard', 'take', 'fresher', 'step', 'grate', 'guitar', 'soul', 'orchestra', 'would', 'impress', 'anyon', 'care', 'listen', '^_^']\n"
          ]
        }
      ],
      "source": [
        "print(train_tokens_stem[0])"
      ]
    },
    {
      "cell_type": "code",
      "execution_count": null,
      "metadata": {
        "id": "MC1EWQyXkuC5"
      },
      "outputs": [],
      "source": [
        "train_texts = [\" \".join(txt) for txt in train_tokens_stem]\n",
        "test_texts = [\" \".join(txt) for txt in test_tokens_stem]"
      ]
    },
    {
      "cell_type": "markdown",
      "source": [
        "Juntar palabras para tener un texto"
      ],
      "metadata": {
        "id": "5nr0Lwuy66Bz"
      }
    },
    {
      "cell_type": "code",
      "execution_count": null,
      "metadata": {
        "id": "srJWAdpokuC5",
        "outputId": "8934dd95-7e98-4c4b-f2d6-e0f687e36499",
        "colab": {
          "base_uri": "https://localhost:8080/"
        }
      },
      "outputs": [
        {
          "output_type": "stream",
          "name": "stdout",
          "text": [
            "stune even non-gam sound track beauti paint seneri mind well would recomend even peopl hate vid game music play game chrono cross game ever play best music back away crude keyboard take fresher step grate guitar soul orchestra would impress anyon care listen ^_^\n"
          ]
        }
      ],
      "source": [
        "print(train_texts[0])"
      ]
    },
    {
      "cell_type": "markdown",
      "source": [
        "#Tokenizar "
      ],
      "metadata": {
        "id": "JCbNQREvDuhj"
      }
    },
    {
      "cell_type": "code",
      "execution_count": null,
      "metadata": {
        "id": "6Mk3Wv1BkuC5"
      },
      "outputs": [],
      "source": [
        "vocab_size = 10000"
      ]
    },
    {
      "cell_type": "code",
      "execution_count": null,
      "metadata": {
        "id": "js65GQG-kuC6"
      },
      "outputs": [],
      "source": [
        "tok = Tokenizer(num_words=vocab_size)"
      ]
    },
    {
      "cell_type": "code",
      "execution_count": null,
      "metadata": {
        "id": "Qu8tDPaPkuC6"
      },
      "outputs": [],
      "source": [
        "tok.fit_on_texts(train_texts)"
      ]
    },
    {
      "cell_type": "code",
      "execution_count": null,
      "metadata": {
        "id": "cwbdGtvWkuC6"
      },
      "outputs": [],
      "source": [
        "train_sequences = tok.texts_to_sequences(train_texts)\n",
        "test_sequences = tok.texts_to_sequences(test_texts)"
      ]
    },
    {
      "cell_type": "code",
      "execution_count": null,
      "metadata": {
        "id": "u323-KUOkuC6",
        "outputId": "6feb7520-a6dd-4364-bcf2-5f14179e5fdb",
        "colab": {
          "base_uri": "https://localhost:8080/"
        }
      },
      "outputs": [
        {
          "output_type": "stream",
          "name": "stdout",
          "text": [
            "[22, 514, 7164, 85, 190, 184, 1098, 283, 20, 11, 1267, 22, 56, 370, 9687, 114, 41, 71, 114, 8169, 1454, 114, 51, 71, 29, 41, 58, 181, 2932, 2153, 75, 8170, 816, 2666, 829, 719, 3871, 11, 483, 120, 268, 110]\n"
          ]
        }
      ],
      "source": [
        "print(train_sequences[0])"
      ]
    },
    {
      "cell_type": "code",
      "execution_count": null,
      "metadata": {
        "id": "MZ9yvqgWkuC6"
      },
      "outputs": [],
      "source": [
        "seq_lens = [len(seq) for seq in train_sequences]"
      ]
    },
    {
      "cell_type": "code",
      "execution_count": null,
      "metadata": {
        "id": "_VwZ7sFIkuC6",
        "outputId": "b5601a8b-8d1f-4da7-d44e-9a1ca053bfd7",
        "colab": {
          "base_uri": "https://localhost:8080/",
          "height": 265
        }
      },
      "outputs": [
        {
          "output_type": "display_data",
          "data": {
            "image/png": "[encoded data removed]",
            "text/plain": [
              "<Figure size 432x288 with 1 Axes>"
            ]
          },
          "metadata": {
            "needs_background": "light"
          }
        }
      ],
      "source": [
        "plt.hist(seq_lens)\n",
        "plt.show()"
      ]
    },
    {
      "cell_type": "code",
      "execution_count": null,
      "metadata": {
        "id": "Cpmq7RPlkuC7"
      },
      "outputs": [],
      "source": [
        "maxlen = 100"
      ]
    },
    {
      "cell_type": "code",
      "execution_count": null,
      "metadata": {
        "id": "E3Nk1pPNkuC7"
      },
      "outputs": [],
      "source": [
        "from tensorflow.keras.preprocessing.sequence import pad_sequences"
      ]
    },
    {
      "cell_type": "code",
      "execution_count": null,
      "metadata": {
        "id": "UIHyXJyAkuC7",
        "outputId": "77ceebbc-3bb9-49e0-dea5-27190e9dc3d6",
        "colab": {
          "base_uri": "https://localhost:8080/"
        }
      },
      "outputs": [
        {
          "output_type": "execute_result",
          "data": {
            "text/plain": [
              "(25000, 100)"
            ]
          },
          "metadata": {},
          "execution_count": 36
        }
      ],
      "source": [
        "X_train = pad_sequences(train_sequences, maxlen=maxlen)\n",
        "X_test = pad_sequences(test_sequences, maxlen=maxlen)\n",
        "X_train.shape"
      ]
    },
    {
      "cell_type": "markdown",
      "source": [
        "#b. Construcción del modelo:\t6 puntos."
      ],
      "metadata": {
        "id": "Aq25Xc79sp3N"
      }
    },
    {
      "cell_type": "markdown",
      "source": [
        "Definicion del modelo LSTM bidireccional, con dos capas densas."
      ],
      "metadata": {
        "id": "vkPEPqUFIMaU"
      }
    },
    {
      "cell_type": "code",
      "execution_count": null,
      "metadata": {
        "id": "70UPYMiGkuC7"
      },
      "outputs": [],
      "source": [
        "from tensorflow.keras.models import Sequential\n",
        "from tensorflow.keras.layers import Dense, Embedding, SpatialDropout1D, Dropout, GRU, LSTM"
      ]
    },
    {
      "cell_type": "markdown",
      "source": [
        "Consideramos un dropout de 0.4"
      ],
      "metadata": {
        "id": "zb4GqFPGIWST"
      }
    },
    {
      "cell_type": "code",
      "execution_count": null,
      "metadata": {
        "id": "6HcIRJSSkuC7"
      },
      "outputs": [],
      "source": [
        "model_lstm = Sequential()\n",
        "model_lstm.add(Embedding(vocab_size, output_dim=32))\n",
        "model_lstm.add(SpatialDropout1D(0.4))\n",
        "model_lstm.add(LSTM(64, return_sequences=True))\n",
        "model_lstm.add(LSTM(64, return_sequences=False))\n",
        "model_lstm.add(Dropout(0.4))\n",
        "model_lstm.add(Dense(32, activation='relu'))\n",
        "model_lstm.add(Dropout(0.4))\n",
        "model_lstm.add(Dense(32, activation='relu'))\n",
        "model_lstm.add(Dropout(0.4))"
      ]
    },
    {
      "cell_type": "code",
      "execution_count": null,
      "metadata": {
        "id": "CvvFaEWukuC8",
        "outputId": "c5aedf52-d695-4aca-8d54-6704cc8f432d",
        "colab": {
          "base_uri": "https://localhost:8080/"
        }
      },
      "outputs": [
        {
          "output_type": "stream",
          "name": "stdout",
          "text": [
            "Model: \"sequential_4\"\n",
            "_________________________________________________________________\n",
            " Layer (type)                Output Shape              Param #   \n",
            "=================================================================\n",
            " embedding_4 (Embedding)     (None, None, 32)          320000    \n",
            "                                                                 \n",
            " spatial_dropout1d_4 (Spatia  (None, None, 32)         0         \n",
            " lDropout1D)                                                     \n",
            "                                                                 \n",
            " lstm_6 (LSTM)               (None, None, 64)          24832     \n",
            "                                                                 \n",
            " lstm_7 (LSTM)               (None, 64)                33024     \n",
            "                                                                 \n",
            " dropout_11 (Dropout)        (None, 64)                0         \n",
            "                                                                 \n",
            " dense_10 (Dense)            (None, 32)                2080      \n",
            "                                                                 \n",
            " dropout_12 (Dropout)        (None, 32)                0         \n",
            "                                                                 \n",
            " dense_11 (Dense)            (None, 32)                1056      \n",
            "                                                                 \n",
            " dropout_13 (Dropout)        (None, 32)                0         \n",
            "                                                                 \n",
            " dense_12 (Dense)            (None, 1)                 33        \n",
            "                                                                 \n",
            "=================================================================\n",
            "Total params: 381,025\n",
            "Trainable params: 381,025\n",
            "Non-trainable params: 0\n",
            "_________________________________________________________________\n"
          ]
        }
      ],
      "source": [
        "model_lstm.add(Dense(1, activation='sigmoid'))\n",
        " \n",
        "model_lstm.compile(loss='binary_crossentropy',\n",
        "              optimizer='rmsprop',\n",
        "              metrics=['accuracy'])\n",
        "\n",
        "model_lstm.summary()"
      ]
    },
    {
      "cell_type": "markdown",
      "source": [
        "Mostrar informacion de GPU"
      ],
      "metadata": {
        "id": "XlD7xaamposT"
      }
    },
    {
      "cell_type": "code",
      "source": [
        "import tensorflow, keras\n",
        "print(\"Versions\\nKeras:\", keras.__version__,\"\\nTensorFlow: \",tensorflow.__version__)\n",
        "print(\"GPUs Available: \", len(tensorflow.config.experimental.list_physical_devices('GPU')),'\\nDevice: ',tensorflow.test.gpu_device_name())\n",
        "print('\\n=====Informacion completa del GPU=====')\n",
        "!nvidia-smi"
      ],
      "metadata": {
        "colab": {
          "base_uri": "https://localhost:8080/"
        },
        "id": "6Xf4f2CYpn0X",
        "outputId": "6e19b202-db25-45d1-a60e-0f9d919a3b01"
      },
      "execution_count": null,
      "outputs": [
        {
          "output_type": "stream",
          "name": "stdout",
          "text": [
            "Versions\n",
            "Keras: 2.7.0 \n",
            "TensorFlow:  2.7.0\n",
            "GPUs Available:  1 \n",
            "Device:  /device:GPU:0\n",
            "\n",
            "=====Informacion completa del GPU=====\n",
            "Mon Jan 31 16:53:23 2022       \n",
            "+-----------------------------------------------------------------------------+\n",
            "| NVIDIA-SMI 495.46       Driver Version: 460.32.03    CUDA Version: 11.2     |\n",
            "|-------------------------------+----------------------+----------------------+\n",
            "| GPU  Name        Persistence-M| Bus-Id        Disp.A | Volatile Uncorr. ECC |\n",
            "| Fan  Temp  Perf  Pwr:Usage/Cap|         Memory-Usage | GPU-Util  Compute M. |\n",
            "|                               |                      |               MIG M. |\n",
            "|===============================+======================+======================|\n",
            "|   0  Tesla K80           Off  | 00000000:00:04.0 Off |                    0 |\n",
            "| N/A   74C    P0    73W / 149W |    371MiB / 11441MiB |      0%      Default |\n",
            "|                               |                      |                  N/A |\n",
            "+-------------------------------+----------------------+----------------------+\n",
            "                                                                               \n",
            "+-----------------------------------------------------------------------------+\n",
            "| Processes:                                                                  |\n",
            "|  GPU   GI   CI        PID   Type   Process name                  GPU Memory |\n",
            "|        ID   ID                                                   Usage      |\n",
            "|=============================================================================|\n",
            "|  No running processes found                                                 |\n",
            "+-----------------------------------------------------------------------------+\n"
          ]
        }
      ]
    },
    {
      "cell_type": "code",
      "execution_count": null,
      "metadata": {
        "id": "HNCPKgV-kuC8",
        "outputId": "0ab11975-a707-4bed-8001-9967d62170e3",
        "colab": {
          "base_uri": "https://localhost:8080/"
        }
      },
      "outputs": [
        {
          "output_type": "stream",
          "name": "stdout",
          "text": [
            "Epoch 1/8\n",
            "157/157 [==============================] - 14s 63ms/step - loss: 0.5500 - accuracy: 0.7122 - val_loss: 0.4019 - val_accuracy: 0.8246\n",
            "Epoch 2/8\n",
            "157/157 [==============================] - 9s 57ms/step - loss: 0.3499 - accuracy: 0.8661 - val_loss: 0.3493 - val_accuracy: 0.8434\n",
            "Epoch 3/8\n",
            "157/157 [==============================] - 9s 58ms/step - loss: 0.2949 - accuracy: 0.8899 - val_loss: 0.3707 - val_accuracy: 0.8572\n",
            "Epoch 4/8\n",
            "157/157 [==============================] - 9s 60ms/step - loss: 0.2649 - accuracy: 0.9025 - val_loss: 0.3509 - val_accuracy: 0.8546\n",
            "Epoch 5/8\n",
            "157/157 [==============================] - 10s 61ms/step - loss: 0.2435 - accuracy: 0.9112 - val_loss: 0.3702 - val_accuracy: 0.8514\n",
            "Epoch 6/8\n",
            "157/157 [==============================] - 9s 57ms/step - loss: 0.2267 - accuracy: 0.9189 - val_loss: 0.3753 - val_accuracy: 0.8488\n",
            "Epoch 7/8\n",
            "157/157 [==============================] - 9s 57ms/step - loss: 0.2124 - accuracy: 0.9239 - val_loss: 0.4011 - val_accuracy: 0.8544\n",
            "Epoch 8/8\n",
            "157/157 [==============================] - 9s 57ms/step - loss: 0.1975 - accuracy: 0.9287 - val_loss: 0.3603 - val_accuracy: 0.8498\n"
          ]
        }
      ],
      "source": [
        "history_lstm = model_lstm.fit(X_train, train_labels, batch_size=128, validation_split=0.2, epochs = 8)"
      ]
    },
    {
      "cell_type": "markdown",
      "source": [
        "#c. Matriz de Confusión y puntuación de la predicción en el conjunto de prueba:\t  5 puntos."
      ],
      "metadata": {
        "id": "B9ZS3sTsEjkq"
      }
    },
    {
      "cell_type": "markdown",
      "source": [
        "Mostramos la grafica de entrenamiento para pocas epocas, se probo con mas epocas, teniendo una tendencia a overfiting y se redujo a 8"
      ],
      "metadata": {
        "id": "rNZP5zHuImMw"
      }
    },
    {
      "cell_type": "code",
      "source": [
        "from sklearn.metrics import accuracy_score, confusion_matrix\n",
        "from scipy.interpolate import make_interp_spline\n",
        "xfer_acc = history_lstm.history['accuracy']\n",
        "val_acc = history_lstm.history['val_accuracy']\n",
        "xfer_loss = history_lstm.history['loss']\n",
        "val_loss = history_lstm.history['val_loss']\n",
        "epochs = range(len(xfer_acc))\n",
        "\n",
        "x = np.array(epochs)\n",
        "y = np.array(xfer_acc)\n",
        "x_smooth = np.linspace(x.min(), x.max(), 500)\n",
        "y_smooth = make_interp_spline(x, y)(x_smooth)\n",
        "plt.plot(x_smooth, y_smooth, 'r-', label = 'Training')\n",
        "\n",
        "x1 = np.array(epochs)\n",
        "y1 = np.array(val_acc)\n",
        "x1_smooth = np.linspace(x1.min(), x1.max(), 500)\n",
        "y1_smooth = make_interp_spline(x1, y1)(x1_smooth)\n",
        "\n",
        "plt.plot(x1_smooth, y1_smooth, 'g-', label = 'Validation')\n",
        "plt.title('Training and Validation Accuracy')\n",
        "plt.legend(loc = 'lower left', fontsize = 9)\n",
        "plt.xlabel('Epochs')\n",
        "plt.ylabel('Accuracy')\n",
        "plt.ylim(0,1.05)\n",
        "\n",
        "plt.figure()\n",
        "x = np.array(epochs)\n",
        "y = np.array(xfer_loss)\n",
        "x_smooth = np.linspace(x.min(), x.max(), 500)\n",
        "y_smooth = make_interp_spline(x, y)(x_smooth)\n",
        "plt.plot(x_smooth, y_smooth, 'r-', label = 'Training')\n",
        "\n",
        "x1 = np.array(epochs)\n",
        "y1 = np.array(val_loss)\n",
        "x1_smooth = np.linspace(x1.min(), x1.max(), 500)\n",
        "y1_smooth = make_interp_spline(x1, y1)(x1_smooth)\n",
        "\n",
        "plt.plot(x1_smooth, y1_smooth, 'g-', label = 'Validation')\n",
        "plt.title('Training and Validation Loss')\n",
        "plt.legend(loc = 'upper right', fontsize = 9)\n",
        "plt.xlabel('Epochs')\n",
        "plt.ylabel('Loss')\n",
        "plt.ylim(0,2.5)\n",
        "plt.show()"
      ],
      "metadata": {
        "colab": {
          "base_uri": "https://localhost:8080/",
          "height": 573
        },
        "id": "09UZhRf6HZYO",
        "outputId": "b693d24c-8bf9-4a1a-d0ba-12ba19a11af4"
      },
      "execution_count": null,
      "outputs": [
        {
          "output_type": "display_data",
          "data": {
            "image/png": "[encoded data removed]",
            "text/plain": [
              "<Figure size 432x288 with 1 Axes>"
            ]
          },
          "metadata": {
            "needs_background": "light"
          }
        },
        {
          "output_type": "display_data",
          "data": {
            "image/png": "[encoded data removed]",
            "text/plain": [
              "<Figure size 432x288 with 1 Axes>"
            ]
          },
          "metadata": {
            "needs_background": "light"
          }
        }
      ]
    },
    {
      "cell_type": "code",
      "execution_count": null,
      "metadata": {
        "id": "d9dtwKEDkuC8"
      },
      "outputs": [],
      "source": [
        "#Para Tensorflow menor a 2.5\n",
        "#test_pred = model_lstm.predict_classes(X_test)\n",
        "\n",
        "#Para Tensorflow 2.7\n",
        "predict_x=model_lstm.predict(X_test) \n",
        "test_pred=np.argmax(predict_x,axis=1)"
      ]
    },
    {
      "cell_type": "markdown",
      "source": [
        "Mostrar matriz de confusion."
      ],
      "metadata": {
        "id": "G1kS9U6oJjdu"
      }
    },
    {
      "cell_type": "code",
      "source": [
        "test_pred = (model_lstm.predict(X_test) > 0.5).astype(\"int32\")\n",
        "print(confusion_matrix(test_labels, test_pred))"
      ],
      "metadata": {
        "colab": {
          "base_uri": "https://localhost:8080/"
        },
        "id": "Px4gCkx8tU0v",
        "outputId": "93b7690c-6df7-4daa-9bb0-87af4014e5ce"
      },
      "execution_count": null,
      "outputs": [
        {
          "output_type": "stream",
          "name": "stdout",
          "text": [
            "[[ 9874  2283]\n",
            " [ 1331 11512]]\n"
          ]
        }
      ]
    },
    {
      "cell_type": "markdown",
      "source": [
        "Mostrar desempeño con los datos de test"
      ],
      "metadata": {
        "id": "_81d0tTpJla0"
      }
    },
    {
      "cell_type": "code",
      "execution_count": null,
      "metadata": {
        "id": "goFhKoE1kuC8",
        "outputId": "bf80afcd-aea1-41af-8b3a-1cd2a545ee91",
        "colab": {
          "base_uri": "https://localhost:8080/"
        }
      },
      "outputs": [
        {
          "output_type": "stream",
          "name": "stdout",
          "text": [
            "0.85544\n"
          ]
        }
      ],
      "source": [
        "print(accuracy_score(test_labels, test_pred))"
      ]
    },
    {
      "cell_type": "markdown",
      "source": [
        "#d. 3 ejemplos de predicciones de opiniones desconocidas: 4 puntos."
      ],
      "metadata": {
        "id": "Vfv0IP0dEsKB"
      }
    },
    {
      "cell_type": "markdown",
      "source": [
        "Modulo para predecir textos de forma manual."
      ],
      "metadata": {
        "id": "K_wH2S_qHE-T"
      }
    },
    {
      "cell_type": "code",
      "source": [
        "def predecir_texto_lstm(texto):\n",
        "  predecir_texto=tok.texts_to_sequences([texto])\n",
        "  predict_x=model_lstm.predict(predecir_texto)\n",
        "  print('Prediccion: ',predict_x)"
      ],
      "metadata": {
        "id": "yXZIpXJZF6P9"
      },
      "execution_count": null,
      "outputs": []
    },
    {
      "cell_type": "markdown",
      "source": [
        "## Prediccion positiva(mayor a 0.5)"
      ],
      "metadata": {
        "id": "E84xbRZ2FHk4"
      }
    },
    {
      "cell_type": "code",
      "source": [
        "#Positivo\n",
        "inp_review = \"I love amazon products\"\n",
        "predecir_texto_lstm(inp_review)"
      ],
      "metadata": {
        "colab": {
          "base_uri": "https://localhost:8080/"
        },
        "id": "9SouA3DiGYgo",
        "outputId": "d2a4d553-4c1a-4390-c5f9-2ff5e9cd3080"
      },
      "execution_count": null,
      "outputs": [
        {
          "output_type": "stream",
          "name": "stdout",
          "text": [
            "Prediccion:  [[0.74040395]]\n"
          ]
        }
      ]
    },
    {
      "cell_type": "code",
      "source": [
        "#Positivo\n",
        "inp_review = \"The products they send are very good and arrive on time\"\n",
        "predecir_texto_lstm(inp_review)"
      ],
      "metadata": {
        "colab": {
          "base_uri": "https://localhost:8080/"
        },
        "id": "3_-fBlS_GGuC",
        "outputId": "9dede832-32f7-42d1-b698-fd29b99b0389"
      },
      "execution_count": null,
      "outputs": [
        {
          "output_type": "stream",
          "name": "stdout",
          "text": [
            "Prediccion:  [[0.86909777]]\n"
          ]
        }
      ]
    },
    {
      "cell_type": "markdown",
      "source": [
        "## Prediccion negativa(menor a 0.5)"
      ],
      "metadata": {
        "id": "-hIzeFrfHAU-"
      }
    },
    {
      "cell_type": "code",
      "source": [
        "#Negativo\n",
        "inp_review = \"I think now sellers have realized that it is very difficult to produce fake four or five star reviews.\"\n",
        "predecir_texto_lstm(inp_review)"
      ],
      "metadata": {
        "colab": {
          "base_uri": "https://localhost:8080/"
        },
        "id": "8Vr2zSKwGTdW",
        "outputId": "9f59924f-6d1a-46d0-a19e-9a293abb3245"
      },
      "execution_count": null,
      "outputs": [
        {
          "output_type": "stream",
          "name": "stdout",
          "text": [
            "Prediccion:  [[0.1943407]]\n"
          ]
        }
      ]
    },
    {
      "cell_type": "code",
      "source": [
        "#Negativo\n",
        "inp_review = \"But when more and more started to arrive, I noticed that sales dropped drastically\"\n",
        "predecir_texto_lstm(inp_review)"
      ],
      "metadata": {
        "colab": {
          "base_uri": "https://localhost:8080/"
        },
        "id": "Pmopt72RGW6e",
        "outputId": "6ddc709d-c1e5-4de2-8bf5-5f77402a8ae1"
      },
      "execution_count": null,
      "outputs": [
        {
          "output_type": "stream",
          "name": "stdout",
          "text": [
            "Prediccion:  [[0.2745566]]\n"
          ]
        }
      ]
    }
  ],
  "metadata": {
    "kernelspec": {
      "display_name": "Python 3",
      "language": "python",
      "name": "python3"
    },
    "language_info": {
      "codemirror_mode": {
        "name": "ipython",
        "version": 3
      },
      "file_extension": ".py",
      "mimetype": "text/x-python",
      "name": "python",
      "nbconvert_exporter": "python",
      "pygments_lexer": "ipython3",
      "version": "3.7.4"
    },
    "colab": {
      "name": "EXAMEN 3 DEEP LEARNING.ipynb",
      "provenance": [],
      "collapsed_sections": []
    },
    "accelerator": "GPU"
  },
  "nbformat": 4,
  "nbformat_minor": 0
}